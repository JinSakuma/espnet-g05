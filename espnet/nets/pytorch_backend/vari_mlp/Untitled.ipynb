{
 "cells": [
  {
   "cell_type": "code",
   "execution_count": 1,
   "id": "e3d3d228-ed2f-47bf-8e5e-f97c68266c5a",
   "metadata": {},
   "outputs": [],
   "source": [
    "import torch\n",
    "from torch import nn\n",
    "\n",
    "from fmlp import FMLPEncoder\n",
    "from cmlp import CMLPEncoder\n",
    "from tsmlp import TSMLPEncoder"
   ]
  },
  {
   "cell_type": "code",
   "execution_count": 2,
   "id": "af48b714-a51b-4006-95ed-de5cd3a5837e",
   "metadata": {},
   "outputs": [],
   "source": [
    "cmlp = CMLPEncoder(\n",
    "    elayers=18,\n",
    "    adim=256,\n",
    "    eunits=1024,\n",
    "    act=nn.GELU(),\n",
    "    act_in=nn.GELU(),\n",
    "    act_out=nn.Identity(),\n",
    "    attn_dim=0,\n",
    "    causal=False,\n",
    "    cmlp_type=1,\n",
    "    kernel=15,\n",
    "    dropout=0.1,\n",
    ")"
   ]
  },
  {
   "cell_type": "code",
   "execution_count": 3,
   "id": "5098edf6-038d-4996-a15f-087b6c17d3a8",
   "metadata": {},
   "outputs": [],
   "source": [
    "# tsmlp = TSMLPEncoder(\n",
    "#     elayers=18,\n",
    "#     adim=256,\n",
    "#     eunits=1024,\n",
    "#     act=nn.GELU(),\n",
    "#     act_in=nn.GELU(),\n",
    "#     act_out=nn.Identity(),\n",
    "#     attn_dim=0,\n",
    "#     causal=False,\n",
    "#     shift_size=2,\n",
    "#     dropout=0.1,\n",
    "# )"
   ]
  },
  {
   "cell_type": "code",
   "execution_count": 4,
   "id": "885b7ab6-f60a-4e97-87ef-30fc77d63245",
   "metadata": {},
   "outputs": [],
   "source": [
    "# fmlp = FMLPEncoder(\n",
    "#     elayers=18,\n",
    "#     adim=256,\n",
    "#     eunits=1024,\n",
    "#     act=nn.GELU(),\n",
    "#     act_in=nn.GELU(),\n",
    "#     act_out=nn.Identity(),\n",
    "#     attn_dim=0,\n",
    "#     causal=False,\n",
    "#     kernel=15,\n",
    "#     dropout=0.1,\n",
    "# )"
   ]
  },
  {
   "cell_type": "code",
   "execution_count": 7,
   "id": "f205d43f-3127-4348-a17b-2edf35db7656",
   "metadata": {},
   "outputs": [],
   "source": [
    "x = torch.randint(0, 20000, (1, 100, 256), dtype=torch.float32)\n",
    "logits = cmlp(x) # (1, 100, 256)"
   ]
  },
  {
   "cell_type": "code",
   "execution_count": 13,
   "id": "2aa81dbc-c6fa-40be-919e-26c035b3bcdd",
   "metadata": {},
   "outputs": [],
   "source": []
  },
  {
   "cell_type": "code",
   "execution_count": 6,
   "id": "101ff0b9-5b32-489e-bdd6-03e27f6f6cbb",
   "metadata": {},
   "outputs": [
    {
     "data": {
      "text/plain": [
       "torch.Size([1, 100, 256])"
      ]
     },
     "execution_count": 6,
     "metadata": {},
     "output_type": "execute_result"
    }
   ],
   "source": [
    "logits.shape"
   ]
  },
  {
   "cell_type": "code",
   "execution_count": null,
   "id": "f4b5b2c8-9798-4554-a4d9-ab91703985f6",
   "metadata": {},
   "outputs": [],
   "source": []
  }
 ],
 "metadata": {
  "kernelspec": {
   "display_name": "Python 3 (ipykernel)",
   "language": "python",
   "name": "python3"
  },
  "language_info": {
   "codemirror_mode": {
    "name": "ipython",
    "version": 3
   },
   "file_extension": ".py",
   "mimetype": "text/x-python",
   "name": "python",
   "nbconvert_exporter": "python",
   "pygments_lexer": "ipython3",
   "version": "3.7.10"
  }
 },
 "nbformat": 4,
 "nbformat_minor": 5
}
